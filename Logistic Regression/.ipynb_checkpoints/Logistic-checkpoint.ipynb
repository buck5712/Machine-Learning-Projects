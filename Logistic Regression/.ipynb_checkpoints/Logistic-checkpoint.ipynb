{
 "cells": [
  {
   "cell_type": "code",
   "execution_count": 1,
   "id": "177a6008",
   "metadata": {},
   "outputs": [
    {
     "name": "stderr",
     "output_type": "stream",
     "text": [
      "C:\\Users\\Buck\\anaconda3\\lib\\site-packages\\numpy\\_distributor_init.py:30: UserWarning: loaded more than 1 DLL from .libs:\n",
      "C:\\Users\\Buck\\anaconda3\\lib\\site-packages\\numpy\\.libs\\libopenblas.4SP5SUA7CBGXUEOC35YP2ASOICYYEQZZ.gfortran-win_amd64.dll\n",
      "C:\\Users\\Buck\\anaconda3\\lib\\site-packages\\numpy\\.libs\\libopenblas.JPIJNSWNNAN3CE6LLI5FWSPHUT2VXMTH.gfortran-win_amd64.dll\n",
      "  warnings.warn(\"loaded more than 1 DLL from .libs:\"\n"
     ]
    }
   ],
   "source": [
    "import random\n",
    "import math\n",
    "import numpy as np\n",
    "import matplotlib.pyplot as plt"
   ]
  },
  {
   "cell_type": "code",
   "execution_count": 2,
   "id": "563218f7",
   "metadata": {},
   "outputs": [],
   "source": [
    "def gaussian_data_generator(m, s):\n",
    "    U=random.random()\n",
    "    V=random.random()\n",
    "    z=math.sqrt(-2*math.log(U))*math.cos(2*math.pi*V)\n",
    "    sample=z * (s**0.5) + m\n",
    "    return sample\n",
    "\n",
    "def run_gradient(A, w, b, lr=0.01):\n",
    "    g = 1\n",
    "    eps = 1e-2\n",
    "    count = 0\n",
    "    while np.sqrt(np.sum(g**2)) > eps and count < 100000:\n",
    "        #print(count)\n",
    "        count += 1\n",
    "        g = A.T@(b-1/(1+np.exp(-A@w))) #lesson12, p.21\n",
    "        w = w + lr*g\n",
    "        #print('w={}'.format(w.reshape(1,-1)))\n",
    "        #print('g={}'.format(g.reshape(1,-1)))\n",
    "\n",
    "    return w\n",
    "\n",
    "def run_Newton(A, w, b, lr=0.01):\n",
    "    g=100\n",
    "    eps = 1e-2\n",
    "    count = 0\n",
    "    while np.sqrt(np.sum(g**2)) > eps and count < 100000:\n",
    "        count += 1\n",
    "        N = len(A)\n",
    "        D = np.zeros((N, N))\n",
    "\n",
    "        for i in range(N):\n",
    "            #lesson13, p.2\n",
    "            D[i, i] = np.exp(-A[i]@w)/np.power(1+np.exp(-A[i]@w), 2)\n",
    "        H = A.T@D@A\n",
    "\n",
    "        try:\n",
    "            H_inv = np.linalg.inv(H)\n",
    "        except np.linalg.LinAlgError as error:\n",
    "            print(str(error))\n",
    "            print('Hessian matrix non invertible, switch to Gradient descent')\n",
    "            return run_gradient(A,w,b)\n",
    "    \n",
    "    \n",
    "        g = H_inv@A.T@(b-1/(1+np.exp(-A@w)))\n",
    "        w = w + lr*g\n",
    "        #print('w={}'.format(w.reshape(1,-1)))\n",
    "        #print('g={}'.format(g.reshape(1,-1)))\n",
    "    return w\n",
    "\n",
    "def predict(A,w):\n",
    "    '''\n",
    "    predict whether is class0 or class1\n",
    "    :param A: (2N,3) shape matrix\n",
    "    :param w: (3,1) shape matrix\n",
    "    :return: (2N,1) shape matrix\n",
    "    '''\n",
    "    N = len(A)\n",
    "    b_predict = np.empty((N,1))\n",
    "    for i in range(N):\n",
    "        b_predict[i] = 0 if A[i]@w < 0 else 1\n",
    "\n",
    "    return b_predict\n",
    "\n",
    "def confusion_matrix(A, b, b_predict):\n",
    "    b_concate = np.hstack((b, b_predict))\n",
    "    TP = FP = FN = TN = 0\n",
    "    for pair in b_concate:\n",
    "        if pair[0]==pair[1]==0:\n",
    "            TP += 1\n",
    "        elif pair[0]==pair[1]==1:\n",
    "            TN += 1\n",
    "        elif pair[0]==1 and pair[1]==0:\n",
    "            FP += 1\n",
    "        else:\n",
    "            FN += 1\n",
    "    matrix = np.empty((2, 2))\n",
    "    matrix[0, 0],matrix[0, 1],matrix[1, 0],matrix[1, 1] = TP, FN, FP, TN\n",
    "    C0_predict=[]\n",
    "    C1_predict=[]\n",
    "    for i in range(len(A)):\n",
    "        if b_predict[i]==0:\n",
    "            C0_predict.append(A[i, 0:2])\n",
    "        else:\n",
    "            C1_predict.append(A[i, 0:2])\n",
    "    return matrix, np.array(C0_predict), np.array(C1_predict)\n",
    "\n",
    "def print_confusion_matrix(matrix):\n",
    "    # print confusion_matrix\n",
    "    print('Confusion Matrix:')\n",
    "    print('               Predict cluster 1  Predict cluster 2')\n",
    "    print('Is cluster 1        {:.0f}               {:.0f}       '.format(matrix[0,0],matrix[0,1]))\n",
    "    print('Is cluster 2        {:.0f}               {:.0f}       '.format(matrix[1,0],matrix[1,1]))\n",
    "    print()\n",
    "    print('Sensitivity (Successfully predict cluster 1): {}'.format(matrix[0, 0]/(matrix[0, 0] + matrix[0, 1])))\n",
    "    print('Specificity (Successfully predict cluster 2): {}'.format(matrix[1, 1]/(matrix[1, 1] + matrix[1, 0])))\n"
   ]
  },
  {
   "cell_type": "code",
   "execution_count": 3,
   "id": "d4282885",
   "metadata": {},
   "outputs": [],
   "source": [
    "N = 50\n",
    "mx1 = 1\n",
    "my1 = 1\n",
    "mx2 = 3\n",
    "my2 = 3\n",
    "vx1 = 2\n",
    "vy1 = 2\n",
    "vx2 = 4\n",
    "vy2 = 4"
   ]
  },
  {
   "cell_type": "code",
   "execution_count": 4,
   "id": "4a587f89",
   "metadata": {},
   "outputs": [],
   "source": [
    "def plot(C0,C1,title):\n",
    "    plt.figure()\n",
    "    plt.plot(C0[:, 0],C0[:, 1],'ro')\n",
    "    plt.plot(C1[:, 0],C1[:, 1],'bo')\n",
    "    plt.title(title)\n",
    "    plt.show()"
   ]
  },
  {
   "cell_type": "code",
   "execution_count": 5,
   "id": "ae1d3747",
   "metadata": {},
   "outputs": [
    {
     "data": {
      "image/png": "[encoded data removed]",
      "text/plain": [
       "<Figure size 432x288 with 1 Axes>"
      ]
     },
     "metadata": {
      "needs_background": "light"
     },
     "output_type": "display_data"
    },
    {
     "name": "stdout",
     "output_type": "stream",
     "text": [
      "[[ 9.86944423e-01  4.07680900e-01  1.00000000e+00]\n",
      " [ 8.33022685e-01  6.22344744e-01  1.00000000e+00]\n",
      " [-6.95971914e-01  3.00463443e+00  1.00000000e+00]\n",
      " [-1.79108874e-01  5.15554429e-02  1.00000000e+00]\n",
      " [ 1.32963605e+00  2.16878083e+00  1.00000000e+00]\n",
      " [-8.51359279e-01  7.11222696e-01  1.00000000e+00]\n",
      " [ 1.60514578e+00  1.40587063e+00  1.00000000e+00]\n",
      " [ 3.85807918e-01  1.57943950e+00  1.00000000e+00]\n",
      " [-1.08332082e+00  3.10146779e+00  1.00000000e+00]\n",
      " [ 1.53164136e+00  1.51043169e-02  1.00000000e+00]\n",
      " [-7.23440843e-01  1.35247037e+00  1.00000000e+00]\n",
      " [ 1.66769200e+00  1.78314712e-01  1.00000000e+00]\n",
      " [ 1.50330813e+00 -5.54960719e-02  1.00000000e+00]\n",
      " [ 1.21638279e+00 -7.52730922e-01  1.00000000e+00]\n",
      " [-9.50229092e-02  3.33594432e+00  1.00000000e+00]\n",
      " [ 6.19593337e-01  1.66197712e+00  1.00000000e+00]\n",
      " [-2.42058332e-03  9.18601816e-01  1.00000000e+00]\n",
      " [ 1.71520911e+00 -1.70033109e-01  1.00000000e+00]\n",
      " [ 9.62768570e-01  1.20610107e+00  1.00000000e+00]\n",
      " [-6.99763508e-01 -8.44060067e-01  1.00000000e+00]\n",
      " [ 1.22643100e+00  3.56753069e+00  1.00000000e+00]\n",
      " [-6.83593762e-01 -6.56188312e-01  1.00000000e+00]\n",
      " [ 6.21096977e-01  3.77442304e+00  1.00000000e+00]\n",
      " [ 2.41664697e-01  1.63651479e+00  1.00000000e+00]\n",
      " [-1.74006261e-01  5.72186347e-01  1.00000000e+00]\n",
      " [ 3.81205585e-01 -1.04469870e+00  1.00000000e+00]\n",
      " [ 3.21232536e+00  2.24300990e+00  1.00000000e+00]\n",
      " [ 1.76316799e+00  3.68817628e+00  1.00000000e+00]\n",
      " [ 3.42940740e-01 -2.33083673e-01  1.00000000e+00]\n",
      " [-7.77432603e-01  3.54283527e+00  1.00000000e+00]\n",
      " [ 2.39741919e+00 -1.01290719e+00  1.00000000e+00]\n",
      " [ 2.30734710e+00 -6.90095340e-01  1.00000000e+00]\n",
      " [ 9.42407288e-01  1.62631144e+00  1.00000000e+00]\n",
      " [ 1.74693017e+00 -1.56729762e+00  1.00000000e+00]\n",
      " [-2.82968656e-01  1.48053842e+00  1.00000000e+00]\n",
      " [-1.05650729e+00  1.76612094e+00  1.00000000e+00]\n",
      " [-7.02902256e-01 -2.92459768e+00  1.00000000e+00]\n",
      " [ 1.17499139e+00  2.62337757e+00  1.00000000e+00]\n",
      " [ 1.65369226e+00 -4.84052304e-01  1.00000000e+00]\n",
      " [-1.85112607e-01  6.52805935e-01  1.00000000e+00]\n",
      " [ 1.97038702e+00  2.39613174e+00  1.00000000e+00]\n",
      " [ 2.18081153e+00 -4.28807969e-01  1.00000000e+00]\n",
      " [-1.45579676e+00  2.39773348e+00  1.00000000e+00]\n",
      " [ 1.16150810e+00  4.95994704e-01  1.00000000e+00]\n",
      " [ 4.69804948e-01 -6.08895665e-01  1.00000000e+00]\n",
      " [ 7.87310926e-01  2.87131325e+00  1.00000000e+00]\n",
      " [ 2.00824584e+00 -7.36300923e-01  1.00000000e+00]\n",
      " [ 1.54532166e+00 -7.61889928e-01  1.00000000e+00]\n",
      " [ 2.86832634e+00  1.23913803e+00  1.00000000e+00]\n",
      " [ 3.49046666e+00  6.61720252e-01  1.00000000e+00]\n",
      " [-1.04295632e+00  5.06419363e+00  1.00000000e+00]\n",
      " [ 4.81546957e+00  4.90829661e+00  1.00000000e+00]\n",
      " [ 3.97589157e+00  3.31183007e+00  1.00000000e+00]\n",
      " [ 3.56636476e+00  4.12873129e+00  1.00000000e+00]\n",
      " [ 1.22027348e+00  2.20773441e+00  1.00000000e+00]\n",
      " [ 5.92922938e+00  2.34233036e+00  1.00000000e+00]\n",
      " [ 2.75148493e+00  5.02469243e+00  1.00000000e+00]\n",
      " [ 1.00753318e+00  2.07890631e+00  1.00000000e+00]\n",
      " [ 4.13901265e+00  5.95269607e+00  1.00000000e+00]\n",
      " [ 5.41246627e+00  1.26877483e+00  1.00000000e+00]\n",
      " [ 9.09517887e-01  3.44507497e+00  1.00000000e+00]\n",
      " [ 3.55624128e+00  3.99300622e+00  1.00000000e+00]\n",
      " [ 3.27218948e+00  2.22255948e+00  1.00000000e+00]\n",
      " [ 2.59102658e+00  2.55324680e+00  1.00000000e+00]\n",
      " [-8.60201132e-01  1.69043791e+00  1.00000000e+00]\n",
      " [ 6.88139325e+00  4.87339445e+00  1.00000000e+00]\n",
      " [ 1.53855981e+00  4.74136321e+00  1.00000000e+00]\n",
      " [ 2.46439716e+00  4.33730093e-01  1.00000000e+00]\n",
      " [ 5.75006056e+00  3.33997477e+00  1.00000000e+00]\n",
      " [ 3.62332433e+00  3.67598793e+00  1.00000000e+00]\n",
      " [ 3.46022428e+00  4.27322906e+00  1.00000000e+00]\n",
      " [ 1.11165613e+00  2.52060433e+00  1.00000000e+00]\n",
      " [ 2.97917669e+00  4.89874719e+00  1.00000000e+00]\n",
      " [ 4.36809283e-01  4.42373638e+00  1.00000000e+00]\n",
      " [ 1.77146841e+00  1.88674057e+00  1.00000000e+00]\n",
      " [-4.78539613e-01 -2.35842580e+00  1.00000000e+00]\n",
      " [ 5.23495429e+00 -1.02266612e+00  1.00000000e+00]\n",
      " [ 3.09438629e-01  2.52834460e+00  1.00000000e+00]\n",
      " [ 4.23078418e+00  3.13569233e+00  1.00000000e+00]\n",
      " [ 3.09109982e+00  2.01461741e+00  1.00000000e+00]\n",
      " [ 4.82729177e+00  5.11015614e+00  1.00000000e+00]\n",
      " [-3.69377194e-02  1.36631580e+00  1.00000000e+00]\n",
      " [ 7.07033007e-01  2.70732264e+00  1.00000000e+00]\n",
      " [ 5.42469079e+00  3.40505077e+00  1.00000000e+00]\n",
      " [ 2.57251246e+00 -6.56792352e-01  1.00000000e+00]\n",
      " [ 6.87146315e+00  1.10005544e+00  1.00000000e+00]\n",
      " [ 3.29113688e+00  5.51420708e+00  1.00000000e+00]\n",
      " [ 4.47845985e+00  4.77455460e+00  1.00000000e+00]\n",
      " [ 5.39766338e+00  2.10622739e+00  1.00000000e+00]\n",
      " [-1.82500090e-01 -1.48467323e+00  1.00000000e+00]\n",
      " [ 5.53421027e-01  1.45913979e+00  1.00000000e+00]\n",
      " [ 1.35457361e+00 -5.92718619e-01  1.00000000e+00]\n",
      " [ 3.80498848e+00  6.21621020e+00  1.00000000e+00]\n",
      " [ 1.60005815e+00  1.14522385e+00  1.00000000e+00]\n",
      " [ 2.60530856e+00  2.04109238e+00  1.00000000e+00]\n",
      " [ 5.70498742e+00  1.14662779e+00  1.00000000e+00]\n",
      " [ 4.15919756e+00  5.09292327e+00  1.00000000e+00]\n",
      " [ 2.61092343e+00  2.18017625e+00  1.00000000e+00]\n",
      " [ 5.09586764e-01  5.57308497e+00  1.00000000e+00]\n",
      " [ 3.94072054e+00  5.61464230e+00  1.00000000e+00]]\n"
     ]
    }
   ],
   "source": [
    "D1 = np.empty((N,2))\n",
    "D2 = np.empty((N,2))\n",
    "for i in range(N):\n",
    "    x = gaussian_data_generator(mx1, vx1)\n",
    "    y = gaussian_data_generator(my1, vy1)\n",
    "    D1[i, 0] = x\n",
    "    D1[i, 1] = y\n",
    "    x = gaussian_data_generator(mx2, vx2)\n",
    "    y = gaussian_data_generator(my2, vy2)\n",
    "    D2[i, 0] = x\n",
    "    D2[i, 1] = y\n",
    "#print(D1)\n",
    "plot(D1, D2, 'Ground truth')\n",
    "A = np.vstack((D1, D2))\n",
    "A = np.concatenate((A, np.ones((2*N, 1))), axis=1)\n",
    "b = np.zeros((2 * N, 1))\n",
    "b[N:] = np.ones((N, 1))\n",
    "print(A)"
   ]
  },
  {
   "cell_type": "code",
   "execution_count": 6,
   "id": "4da5a365",
   "metadata": {},
   "outputs": [
    {
     "name": "stdout",
     "output_type": "stream",
     "text": [
      "Gradient descent:\n",
      "\n",
      "w:\n",
      "[2.5580761]\n",
      "[1.19072242]\n",
      "[-10.42347052]\n",
      "Confusion Matrix:\n",
      "               Predict cluster 1  Predict cluster 2\n",
      "Is cluster 1        49               1       \n",
      "Is cluster 2        24               26       \n",
      "\n",
      "Sensitivity (Successfully predict cluster 1): 0.98\n",
      "Specificity (Successfully predict cluster 2): 0.52\n"
     ]
    },
    {
     "data": {
      "image/png": "[encoded data removed]",
      "text/plain": [
       "<Figure size 432x288 with 1 Axes>"
      ]
     },
     "metadata": {
      "needs_background": "light"
     },
     "output_type": "display_data"
    }
   ],
   "source": [
    "w = np.random.rand(3, 1)\n",
    "w_gradient = run_gradient(A, w, b, lr=0.1)\n",
    "\n",
    "#print\n",
    "print('Gradient descent:\\n')\n",
    "b_predict = predict(A, w_gradient)\n",
    "matrix, C0_predict, C1_predict = confusion_matrix(A, b, b_predict)\n",
    "print('w:')\n",
    "print(w_gradient[0])\n",
    "print(w_gradient[1])\n",
    "print(w_gradient[2])\n",
    "print_confusion_matrix(matrix)\n",
    "plot(C0_predict,C1_predict,'Gradient descent')"
   ]
  },
  {
   "cell_type": "code",
   "execution_count": 7,
   "id": "38e98e80",
   "metadata": {},
   "outputs": [
    {
     "name": "stdout",
     "output_type": "stream",
     "text": [
      "\n",
      "----------------------------------------\n",
      "Newton's method:\n",
      "w:\n",
      "[0.669386]\n",
      "[0.5178608]\n",
      "[-2.04138359]\n",
      "Confusion Matrix:\n",
      "               Predict cluster 1  Predict cluster 2\n",
      "Is cluster 1        42               8       \n",
      "Is cluster 2        14               36       \n",
      "\n",
      "Sensitivity (Successfully predict cluster 1): 0.84\n",
      "Specificity (Successfully predict cluster 2): 0.72\n"
     ]
    },
    {
     "data": {
      "image/png": "[encoded data removed]",
      "text/plain": [
       "<Figure size 432x288 with 1 Axes>"
      ]
     },
     "metadata": {
      "needs_background": "light"
     },
     "output_type": "display_data"
    }
   ],
   "source": [
    "#newton's method\n",
    "w = np.random.rand(3,1)\n",
    "w_Newton = run_Newton(A, w, b, lr=0.1)\n",
    "\n",
    "#print\n",
    "print('\\n----------------------------------------')\n",
    "print('Newton\\'s method:')\n",
    "b_predict = predict(A, w_Newton)\n",
    "matrix, C0_predict, C1_predict = confusion_matrix(A, b, b_predict)\n",
    "print('w:')\n",
    "print(w_Newton[0])\n",
    "print(w_Newton[1])\n",
    "print(w_Newton[2])\n",
    "print_confusion_matrix(matrix)\n",
    "plot(C0_predict,C1_predict,'Newton\\'s method')"
   ]
  },
  {
   "cell_type": "code",
   "execution_count": null,
   "id": "32593df9",
   "metadata": {},
   "outputs": [],
   "source": []
  }
 ],
 "metadata": {
  "kernelspec": {
   "display_name": "Python 3 (ipykernel)",
   "language": "python",
   "name": "python3"
  },
  "language_info": {
   "codemirror_mode": {
    "name": "ipython",
    "version": 3
   },
   "file_extension": ".py",
   "mimetype": "text/x-python",
   "name": "python",
   "nbconvert_exporter": "python",
   "pygments_lexer": "ipython3",
   "version": "3.9.12"
  }
 },
 "nbformat": 4,
 "nbformat_minor": 5
}
