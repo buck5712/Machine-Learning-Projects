{
 "cells": [
  {
   "cell_type": "code",
   "execution_count": 38,
   "metadata": {},
   "outputs": [],
   "source": [
    "import numpy as np\n",
    "import pandas as pd\n",
    "import matplotlib.pyplot as plt\n",
    "import copy"
   ]
  },
  {
   "cell_type": "code",
   "execution_count": 2,
   "metadata": {},
   "outputs": [],
   "source": [
    "A = [[2,1,-1],[1,-3,1],[1,3,-3]]"
   ]
  },
  {
   "cell_type": "code",
   "execution_count": 3,
   "metadata": {},
   "outputs": [],
   "source": [
    "A=np.array(A)"
   ]
  },
  {
   "cell_type": "code",
   "execution_count": 4,
   "metadata": {},
   "outputs": [
    {
     "data": {
      "text/plain": [
       "numpy.ndarray"
      ]
     },
     "execution_count": 4,
     "metadata": {},
     "output_type": "execute_result"
    }
   ],
   "source": [
    "type(A)"
   ]
  },
  {
   "cell_type": "code",
   "execution_count": 5,
   "metadata": {},
   "outputs": [
    {
     "data": {
      "text/plain": [
       "array([ 1, -3,  1])"
      ]
     },
     "execution_count": 5,
     "metadata": {},
     "output_type": "execute_result"
    }
   ],
   "source": [
    "A[1,]"
   ]
  },
  {
   "cell_type": "code",
   "execution_count": 6,
   "metadata": {},
   "outputs": [
    {
     "name": "stdout",
     "output_type": "stream",
     "text": [
      "[[ 2  1 -1]\n",
      " [ 1 -3  1]\n",
      " [ 1  3 -3]]\n"
     ]
    }
   ],
   "source": [
    "print(A)"
   ]
  },
  {
   "cell_type": "code",
   "execution_count": 7,
   "metadata": {},
   "outputs": [
    {
     "data": {
      "text/plain": [
       "3"
      ]
     },
     "execution_count": 7,
     "metadata": {},
     "output_type": "execute_result"
    }
   ],
   "source": [
    "len(A)"
   ]
  },
  {
   "cell_type": "code",
   "execution_count": 11,
   "metadata": {},
   "outputs": [
    {
     "name": "stdout",
     "output_type": "stream",
     "text": [
      "[[1. 0. 0.]\n",
      " [0. 1. 0.]\n",
      " [0. 0. 1.]]\n"
     ]
    }
   ],
   "source": [
    "n = len(A)\n",
    "I = np.zeros((n,n))\n",
    "for i in range(n):\n",
    "    I[i,i]=1\n",
    "print(I)"
   ]
  },
  {
   "cell_type": "code",
   "execution_count": 36,
   "metadata": {},
   "outputs": [],
   "source": [
    "def elimination(row1, row2, col, target=0):\n",
    "    factor =((row2[col]-target)/row1[col])\n",
    "    row2 = row2-row1*factor\n",
    "\n",
    "def gauss(A):\n",
    "    for i in range(len(A)):\n",
    "        if A[i][i] == 0:\n",
    "            for j in range(i+1, len(A)):\n",
    "                if A[i][j]!=0:\n",
    "                    A[i], A[j] = A[j],A[i]\n",
    "                    break\n",
    "            else:\n",
    "                raise ValueError(\"Matrix is not invertible!\")\n",
    "        for j in range(i+1, len(A)):\n",
    "            elimination(A[i], A[j], i)\n",
    "    for i in range(len(A-1),-1,-1):\n",
    "        for j in range(i-1, -1, -1):\n",
    "            elimination(A[i], A[j], i)\n",
    "    for i in range(len(A)):\n",
    "        elimination(A[i], A[i], i, target=1)\n",
    "    return A\n",
    "            \n",
    "\n",
    "def inverse(A):\n",
    "    \n",
    "    #生成一個單位矩陣\n",
    "    n = len(A)\n",
    "    I = np.zeros((n,n))\n",
    "    for i in range(n):\n",
    "        I[i,i]=1\n",
    "    \n",
    "    #concate A及I\n",
    "    A_I = copy.deepcopy(A)\n",
    "    A_I = np.concatenate((A_I, I, axis=1))\n",
    "    \n",
    "    #對concate後的矩陣做高斯消去\n",
    "    gauss(A_inverse)\n",
    "    \n",
    "    #取A_I右半部為A之反矩陣\n",
    "    A_inverse = A_I[:, (A_I.shape[1]//2):]\n",
    "    \n",
    "    return A_inverse"
   ]
  },
  {
   "cell_type": "code",
   "execution_count": 37,
   "metadata": {},
   "outputs": [
    {
     "name": "stdout",
     "output_type": "stream",
     "text": [
      "factor= 0.5\n",
      "1 2 0.5\n",
      "[ 0.  -3.5  1.5]\n",
      "[ 1 -3  1]\n"
     ]
    }
   ],
   "source": [
    "elimination(A[0,],A[1,],0)\n",
    "print(A[1,])"
   ]
  },
  {
   "cell_type": "code",
   "execution_count": 39,
   "metadata": {},
   "outputs": [
    {
     "data": {
      "text/html": [
       "<div>\n",
       "<style scoped>\n",
       "    .dataframe tbody tr th:only-of-type {\n",
       "        vertical-align: middle;\n",
       "    }\n",
       "\n",
       "    .dataframe tbody tr th {\n",
       "        vertical-align: top;\n",
       "    }\n",
       "\n",
       "    .dataframe thead th {\n",
       "        text-align: right;\n",
       "    }\n",
       "</style>\n",
       "<table border=\"1\" class=\"dataframe\">\n",
       "  <thead>\n",
       "    <tr style=\"text-align: right;\">\n",
       "      <th></th>\n",
       "      <th>obs_x</th>\n",
       "      <th>obs_y</th>\n",
       "    </tr>\n",
       "  </thead>\n",
       "  <tbody>\n",
       "    <tr>\n",
       "      <th>0</th>\n",
       "      <td>-5.000000</td>\n",
       "      <td>51.764052</td>\n",
       "    </tr>\n",
       "    <tr>\n",
       "      <th>1</th>\n",
       "      <td>-4.795918</td>\n",
       "      <td>45.423064</td>\n",
       "    </tr>\n",
       "    <tr>\n",
       "      <th>2</th>\n",
       "      <td>-4.591837</td>\n",
       "      <td>41.274448</td>\n",
       "    </tr>\n",
       "    <tr>\n",
       "      <th>3</th>\n",
       "      <td>-3.979592</td>\n",
       "      <td>26.636216</td>\n",
       "    </tr>\n",
       "    <tr>\n",
       "      <th>4</th>\n",
       "      <td>-3.571429</td>\n",
       "      <td>20.256806</td>\n",
       "    </tr>\n",
       "    <tr>\n",
       "      <th>5</th>\n",
       "      <td>-2.959184</td>\n",
       "      <td>11.618429</td>\n",
       "    </tr>\n",
       "    <tr>\n",
       "      <th>6</th>\n",
       "      <td>-2.755102</td>\n",
       "      <td>10.450525</td>\n",
       "    </tr>\n",
       "    <tr>\n",
       "      <th>7</th>\n",
       "      <td>-1.734694</td>\n",
       "      <td>1.848098</td>\n",
       "    </tr>\n",
       "    <tr>\n",
       "      <th>8</th>\n",
       "      <td>-1.326531</td>\n",
       "      <td>-1.040535</td>\n",
       "    </tr>\n",
       "    <tr>\n",
       "      <th>9</th>\n",
       "      <td>-0.918367</td>\n",
       "      <td>-4.614631</td>\n",
       "    </tr>\n",
       "    <tr>\n",
       "      <th>10</th>\n",
       "      <td>-0.714286</td>\n",
       "      <td>-1.387198</td>\n",
       "    </tr>\n",
       "    <tr>\n",
       "      <th>11</th>\n",
       "      <td>-0.306122</td>\n",
       "      <td>-1.991644</td>\n",
       "    </tr>\n",
       "    <tr>\n",
       "      <th>12</th>\n",
       "      <td>0.102041</td>\n",
       "      <td>-0.912925</td>\n",
       "    </tr>\n",
       "    <tr>\n",
       "      <th>13</th>\n",
       "      <td>0.714286</td>\n",
       "      <td>6.634820</td>\n",
       "    </tr>\n",
       "    <tr>\n",
       "      <th>14</th>\n",
       "      <td>1.122449</td>\n",
       "      <td>9.546867</td>\n",
       "    </tr>\n",
       "    <tr>\n",
       "      <th>15</th>\n",
       "      <td>1.734694</td>\n",
       "      <td>15.720161</td>\n",
       "    </tr>\n",
       "    <tr>\n",
       "      <th>16</th>\n",
       "      <td>1.938776</td>\n",
       "      <td>20.622517</td>\n",
       "    </tr>\n",
       "    <tr>\n",
       "      <th>17</th>\n",
       "      <td>2.551020</td>\n",
       "      <td>33.480597</td>\n",
       "    </tr>\n",
       "    <tr>\n",
       "      <th>18</th>\n",
       "      <td>2.959184</td>\n",
       "      <td>40.763920</td>\n",
       "    </tr>\n",
       "    <tr>\n",
       "      <th>19</th>\n",
       "      <td>3.979592</td>\n",
       "      <td>66.899761</td>\n",
       "    </tr>\n",
       "    <tr>\n",
       "      <th>20</th>\n",
       "      <td>4.387755</td>\n",
       "      <td>78.443165</td>\n",
       "    </tr>\n",
       "    <tr>\n",
       "      <th>21</th>\n",
       "      <td>4.591837</td>\n",
       "      <td>86.991568</td>\n",
       "    </tr>\n",
       "    <tr>\n",
       "      <th>22</th>\n",
       "      <td>5.000000</td>\n",
       "      <td>99.787260</td>\n",
       "    </tr>\n",
       "  </tbody>\n",
       "</table>\n",
       "</div>"
      ],
      "text/plain": [
       "       obs_x      obs_y\n",
       "0  -5.000000  51.764052\n",
       "1  -4.795918  45.423064\n",
       "2  -4.591837  41.274448\n",
       "3  -3.979592  26.636216\n",
       "4  -3.571429  20.256806\n",
       "5  -2.959184  11.618429\n",
       "6  -2.755102  10.450525\n",
       "7  -1.734694   1.848098\n",
       "8  -1.326531  -1.040535\n",
       "9  -0.918367  -4.614631\n",
       "10 -0.714286  -1.387198\n",
       "11 -0.306122  -1.991644\n",
       "12  0.102041  -0.912925\n",
       "13  0.714286   6.634820\n",
       "14  1.122449   9.546867\n",
       "15  1.734694  15.720161\n",
       "16  1.938776  20.622517\n",
       "17  2.551020  33.480597\n",
       "18  2.959184  40.763920\n",
       "19  3.979592  66.899761\n",
       "20  4.387755  78.443165\n",
       "21  4.591837  86.991568\n",
       "22  5.000000  99.787260"
      ]
     },
     "execution_count": 39,
     "metadata": {},
     "output_type": "execute_result"
    }
   ],
   "source": [
    "df = pd.read_csv(\"testfile.txt\", header=None)\n",
    "df.columns = ['obs_x', 'obs_y']\n",
    "df"
   ]
  },
  {
   "cell_type": "code",
   "execution_count": 41,
   "metadata": {},
   "outputs": [],
   "source": [
    "obs_x, obs_y = df['obs_x'], df['obs_y']\n"
   ]
  },
  {
   "cell_type": "code",
   "execution_count": 42,
   "metadata": {},
   "outputs": [
    {
     "data": {
      "text/plain": [
       "0     25.000000\n",
       "1     23.000833\n",
       "2     21.084965\n",
       "3     15.837151\n",
       "4     12.755102\n",
       "5      8.756768\n",
       "6      7.590587\n",
       "7      3.009163\n",
       "8      1.759683\n",
       "9      0.843399\n",
       "10     0.510204\n",
       "11     0.093711\n",
       "12     0.010412\n",
       "13     0.510204\n",
       "14     1.259892\n",
       "15     3.009163\n",
       "16     3.758850\n",
       "17     6.507705\n",
       "18     8.756768\n",
       "19    15.837151\n",
       "20    19.252395\n",
       "21    21.084965\n",
       "22    25.000000\n",
       "Name: obs_x, dtype: float64"
      ]
     },
     "execution_count": 42,
     "metadata": {},
     "output_type": "execute_result"
    }
   ],
   "source": [
    "np.power(obs_x, 2)"
   ]
  },
  {
   "cell_type": "code",
   "execution_count": 44,
   "metadata": {},
   "outputs": [
    {
     "data": {
      "text/plain": [
       "array([[2.50000000e+01],\n",
       "       [2.30008330e+01],\n",
       "       [2.10849646e+01],\n",
       "       [1.58371512e+01],\n",
       "       [1.27551020e+01],\n",
       "       [8.75676801e+00],\n",
       "       [7.59058726e+00],\n",
       "       [3.00916285e+00],\n",
       "       [1.75968347e+00],\n",
       "       [8.43398584e-01],\n",
       "       [5.10204082e-01],\n",
       "       [9.37109538e-02],\n",
       "       [1.04123282e-02],\n",
       "       [5.10204082e-01],\n",
       "       [1.25989171e+00],\n",
       "       [3.00916285e+00],\n",
       "       [3.75885048e+00],\n",
       "       [6.50770512e+00],\n",
       "       [8.75676801e+00],\n",
       "       [1.58371512e+01],\n",
       "       [1.92523948e+01],\n",
       "       [2.10849646e+01],\n",
       "       [2.50000000e+01]])"
      ]
     },
     "execution_count": 44,
     "metadata": {},
     "output_type": "execute_result"
    }
   ],
   "source": [
    "np.expand_dims(np.power(obs_x, 2), axis=1)"
   ]
  },
  {
   "cell_type": "code",
   "execution_count": 62,
   "metadata": {},
   "outputs": [
    {
     "name": "stdout",
     "output_type": "stream",
     "text": [
      "2\n",
      "1\n",
      "0\n"
     ]
    }
   ],
   "source": [
    "X_design_matrix = []\n",
    "for i in range(2, -1, -1):\n",
    "    print(i)\n",
    "    X_design_matrix = np.append(X_design_matrix, np.expand_dims(np.power(obs_x, i), axis=1))"
   ]
  },
  {
   "cell_type": "code",
   "execution_count": 63,
   "metadata": {},
   "outputs": [
    {
     "data": {
      "text/plain": [
       "array([ 2.50000000e+01,  2.30008330e+01,  2.10849646e+01,  1.58371512e+01,\n",
       "        1.27551020e+01,  8.75676801e+00,  7.59058726e+00,  3.00916285e+00,\n",
       "        1.75968347e+00,  8.43398584e-01,  5.10204082e-01,  9.37109538e-02,\n",
       "        1.04123282e-02,  5.10204082e-01,  1.25989171e+00,  3.00916285e+00,\n",
       "        3.75885048e+00,  6.50770512e+00,  8.75676801e+00,  1.58371512e+01,\n",
       "        1.92523948e+01,  2.10849646e+01,  2.50000000e+01, -5.00000000e+00,\n",
       "       -4.79591837e+00, -4.59183673e+00, -3.97959184e+00, -3.57142857e+00,\n",
       "       -2.95918367e+00, -2.75510204e+00, -1.73469388e+00, -1.32653061e+00,\n",
       "       -9.18367347e-01, -7.14285714e-01, -3.06122449e-01,  1.02040816e-01,\n",
       "        7.14285714e-01,  1.12244898e+00,  1.73469388e+00,  1.93877551e+00,\n",
       "        2.55102041e+00,  2.95918367e+00,  3.97959184e+00,  4.38775510e+00,\n",
       "        4.59183673e+00,  5.00000000e+00,  1.00000000e+00,  1.00000000e+00,\n",
       "        1.00000000e+00,  1.00000000e+00,  1.00000000e+00,  1.00000000e+00,\n",
       "        1.00000000e+00,  1.00000000e+00,  1.00000000e+00,  1.00000000e+00,\n",
       "        1.00000000e+00,  1.00000000e+00,  1.00000000e+00,  1.00000000e+00,\n",
       "        1.00000000e+00,  1.00000000e+00,  1.00000000e+00,  1.00000000e+00,\n",
       "        1.00000000e+00,  1.00000000e+00,  1.00000000e+00,  1.00000000e+00,\n",
       "        1.00000000e+00])"
      ]
     },
     "execution_count": 63,
     "metadata": {},
     "output_type": "execute_result"
    }
   ],
   "source": [
    "X_design_matrix"
   ]
  },
  {
   "cell_type": "code",
   "execution_count": 64,
   "metadata": {},
   "outputs": [
    {
     "name": "stderr",
     "output_type": "stream",
     "text": [
      "C:\\Users\\Special\\Anaconda3\\lib\\site-packages\\matplotlib\\cbook\\__init__.py:1377: FutureWarning: Support for multi-dimensional indexing (e.g. `obj[:, None]`) is deprecated and will be removed in a future version.  Convert to a numpy array before indexing instead.\n",
      "  x[:, None]\n",
      "C:\\Users\\Special\\Anaconda3\\lib\\site-packages\\matplotlib\\axes\\_base.py:237: FutureWarning: Support for multi-dimensional indexing (e.g. `obj[:, None]`) is deprecated and will be removed in a future version.  Convert to a numpy array before indexing instead.\n",
      "  x = x[:, np.newaxis]\n",
      "C:\\Users\\Special\\Anaconda3\\lib\\site-packages\\matplotlib\\axes\\_base.py:239: FutureWarning: Support for multi-dimensional indexing (e.g. `obj[:, None]`) is deprecated and will be removed in a future version.  Convert to a numpy array before indexing instead.\n",
      "  y = y[:, np.newaxis]\n"
     ]
    },
    {
     "data": {
      "text/plain": [
       "[<matplotlib.lines.Line2D at 0x13f28560ba8>]"
      ]
     },
     "execution_count": 64,
     "metadata": {},
     "output_type": "execute_result"
    },
    {
     "data": {
      "image/png": "[encoded data removed]",
      "text/plain": [
       "<Figure size 432x288 with 1 Axes>"
      ]
     },
     "metadata": {
      "needs_background": "light"
     },
     "output_type": "display_data"
    }
   ],
   "source": [
    "import numpy as np \n",
    "import pandas as pd\n",
    "import matplotlib.pyplot as plt\n",
    "import copy\n",
    "train_df = pd.read_csv(\"testfile.txt\")\n",
    "# 直接讀進來第一列會不見\n",
    "train_df_first_row = train_df.columns\n",
    "train_df.columns = ['x_train', 'y_train']\n",
    "train_df_first_row = pd.DataFrame([train_df_first_row])\n",
    "train_df_first_row.columns = ['x_train', 'y_train']\n",
    "train_df = pd.concat([train_df_first_row, train_df], ignore_index=True)\n",
    "x_train, y_train = train_df['x_train'], train_df['y_train']\n",
    "x_train = x_train.astype(np.float64) \n",
    "y_train = y_train.astype(np.float64)\n",
    "plt.plot(x_train, y_train, '.')"
   ]
  },
  {
   "cell_type": "code",
   "execution_count": 79,
   "metadata": {
    "scrolled": false
   },
   "outputs": [
    {
     "name": "stdout",
     "output_type": "stream",
     "text": [
      "Case 1: n = 2,lamda = 0\n",
      "[[-5.          1.        ]\n",
      " [-4.79591837  1.        ]\n",
      " [-4.59183673  1.        ]\n",
      " [-3.97959184  1.        ]\n",
      " [-3.57142857  1.        ]\n",
      " [-2.95918367  1.        ]\n",
      " [-2.75510204  1.        ]\n",
      " [-1.73469388  1.        ]\n",
      " [-1.32653061  1.        ]\n",
      " [-0.91836735  1.        ]\n",
      " [-0.71428571  1.        ]\n",
      " [-0.30612245  1.        ]\n",
      " [ 0.10204082  1.        ]\n",
      " [ 0.71428571  1.        ]\n",
      " [ 1.12244898  1.        ]\n",
      " [ 1.73469388  1.        ]\n",
      " [ 1.93877551  1.        ]\n",
      " [ 2.55102041  1.        ]\n",
      " [ 2.95918367  1.        ]\n",
      " [ 3.97959184  1.        ]\n",
      " [ 4.3877551   1.        ]\n",
      " [ 4.59183673  1.        ]\n",
      " [ 5.          1.        ]]\n",
      "<class 'numpy.ndarray'>\n",
      "(23, 2)\n",
      "ATA= [[225.22907122  -3.57142857]\n",
      " [ -3.57142857  23.        ]]\n",
      "ATA+lamdaI= [[225.22907122  -3.57142857]\n",
      " [ -3.57142857  23.        ]]\n",
      "ATb= [[893.76355001]\n",
      " [658.21534285]]\n",
      "ATA+lamdaI_inverse= [[0.00445088 0.00069113]\n",
      " [0.00069113 0.04358558]]\n",
      "LSE= [[ 4.43295031]\n",
      " [29.30640471]]\n",
      "Case 2: n = 3,lamda = 0\n",
      "[[ 2.50000000e+01 -5.00000000e+00  1.00000000e+00]\n",
      " [ 2.30008330e+01 -4.79591837e+00  1.00000000e+00]\n",
      " [ 2.10849646e+01 -4.59183673e+00  1.00000000e+00]\n",
      " [ 1.58371512e+01 -3.97959184e+00  1.00000000e+00]\n",
      " [ 1.27551020e+01 -3.57142857e+00  1.00000000e+00]\n",
      " [ 8.75676801e+00 -2.95918367e+00  1.00000000e+00]\n",
      " [ 7.59058726e+00 -2.75510204e+00  1.00000000e+00]\n",
      " [ 3.00916285e+00 -1.73469388e+00  1.00000000e+00]\n",
      " [ 1.75968347e+00 -1.32653061e+00  1.00000000e+00]\n",
      " [ 8.43398584e-01 -9.18367347e-01  1.00000000e+00]\n",
      " [ 5.10204082e-01 -7.14285714e-01  1.00000000e+00]\n",
      " [ 9.37109538e-02 -3.06122449e-01  1.00000000e+00]\n",
      " [ 1.04123282e-02  1.02040816e-01  1.00000000e+00]\n",
      " [ 5.10204082e-01  7.14285714e-01  1.00000000e+00]\n",
      " [ 1.25989171e+00  1.12244898e+00  1.00000000e+00]\n",
      " [ 3.00916285e+00  1.73469388e+00  1.00000000e+00]\n",
      " [ 3.75885048e+00  1.93877551e+00  1.00000000e+00]\n",
      " [ 6.50770512e+00  2.55102041e+00  1.00000000e+00]\n",
      " [ 8.75676801e+00  2.95918367e+00  1.00000000e+00]\n",
      " [ 1.58371512e+01  3.97959184e+00  1.00000000e+00]\n",
      " [ 1.92523948e+01  4.38775510e+00  1.00000000e+00]\n",
      " [ 2.10849646e+01  4.59183673e+00  1.00000000e+00]\n",
      " [ 2.50000000e+01  5.00000000e+00  1.00000000e+00]]\n",
      "<class 'numpy.ndarray'>\n",
      "(23, 3)\n",
      "ATA= [[ 3.99466077e+03 -7.01355303e+01  2.25229071e+02]\n",
      " [-7.01355303e+01  2.25229071e+02 -3.57142857e+00]\n",
      " [ 2.25229071e+02 -3.57142857e+00  2.30000000e+01]]\n",
      "ATA+lamdaI= [[ 3.99466077e+03 -7.01355303e+01  2.25229071e+02]\n",
      " [-7.01355303e+01  2.25229071e+02 -3.57142857e+00]\n",
      " [ 2.25229071e+02 -3.57142857e+00  2.30000000e+01]]\n",
      "ATb= [[11683.05185293]\n",
      " [  893.76355001]\n",
      " [  658.21534285]]\n",
      "ATA+lamdaI_inverse= [[ 5.60667990e-04  8.77458193e-05 -5.47675446e-03]\n",
      " [ 8.77458193e-05  4.46461578e-03 -1.65993610e-04]\n",
      " [-5.47675446e-03 -1.65993610e-04  9.70839777e-02]]\n",
      "LSE= [[ 3.02385339]\n",
      " [ 4.90619026]\n",
      " [-0.23140176]]\n",
      "Case 3: n = 3,lamda = 10000\n",
      "[[ 2.50000000e+01 -5.00000000e+00  1.00000000e+00]\n",
      " [ 2.30008330e+01 -4.79591837e+00  1.00000000e+00]\n",
      " [ 2.10849646e+01 -4.59183673e+00  1.00000000e+00]\n",
      " [ 1.58371512e+01 -3.97959184e+00  1.00000000e+00]\n",
      " [ 1.27551020e+01 -3.57142857e+00  1.00000000e+00]\n",
      " [ 8.75676801e+00 -2.95918367e+00  1.00000000e+00]\n",
      " [ 7.59058726e+00 -2.75510204e+00  1.00000000e+00]\n",
      " [ 3.00916285e+00 -1.73469388e+00  1.00000000e+00]\n",
      " [ 1.75968347e+00 -1.32653061e+00  1.00000000e+00]\n",
      " [ 8.43398584e-01 -9.18367347e-01  1.00000000e+00]\n",
      " [ 5.10204082e-01 -7.14285714e-01  1.00000000e+00]\n",
      " [ 9.37109538e-02 -3.06122449e-01  1.00000000e+00]\n",
      " [ 1.04123282e-02  1.02040816e-01  1.00000000e+00]\n",
      " [ 5.10204082e-01  7.14285714e-01  1.00000000e+00]\n",
      " [ 1.25989171e+00  1.12244898e+00  1.00000000e+00]\n",
      " [ 3.00916285e+00  1.73469388e+00  1.00000000e+00]\n",
      " [ 3.75885048e+00  1.93877551e+00  1.00000000e+00]\n",
      " [ 6.50770512e+00  2.55102041e+00  1.00000000e+00]\n",
      " [ 8.75676801e+00  2.95918367e+00  1.00000000e+00]\n",
      " [ 1.58371512e+01  3.97959184e+00  1.00000000e+00]\n",
      " [ 1.92523948e+01  4.38775510e+00  1.00000000e+00]\n",
      " [ 2.10849646e+01  4.59183673e+00  1.00000000e+00]\n",
      " [ 2.50000000e+01  5.00000000e+00  1.00000000e+00]]\n",
      "<class 'numpy.ndarray'>\n",
      "(23, 3)\n",
      "ATA= [[ 3.99466077e+03 -7.01355303e+01  2.25229071e+02]\n",
      " [-7.01355303e+01  2.25229071e+02 -3.57142857e+00]\n",
      " [ 2.25229071e+02 -3.57142857e+00  2.30000000e+01]]\n",
      "ATA+lamdaI= [[ 1.39946608e+04 -7.01355303e+01  2.25229071e+02]\n",
      " [-7.01355303e+01  1.02252291e+04 -3.57142857e+00]\n",
      " [ 2.25229071e+02 -3.57142857e+00  1.00230000e+04]]\n",
      "ATb= [[11683.05185293]\n",
      " [  893.76355001]\n",
      " [  658.21534285]]\n",
      "ATA+lamdaI_inverse= [[ 7.14841267e-05  4.89753414e-07 -1.60616126e-06]\n",
      " [ 4.89753414e-07  9.78006876e-05  2.38433068e-08]\n",
      " [-1.60616126e-06  2.38433068e-08  9.98066287e-05]]\n",
      "LSE= [[0.83453328]\n",
      " [0.0931482 ]\n",
      " [0.0469507 ]]\n"
     ]
    }
   ],
   "source": [
    "def eliminate(r1, r2, col, target=0):\n",
    "    fac = (r2[col]-target) / r1[col]\n",
    "    for i in range(len(r2)):\n",
    "        r2[i] -= fac * r1[i]\n",
    "def gauss(A):\n",
    "    for i in range(len(A)):\n",
    "        if A[i][i] == 0:\n",
    "            for j in range(i+1, len(A)):\n",
    "                if A[i][j] != 0:\n",
    "                    A[i], A[j] = A[j], A[i]\n",
    "                    break\n",
    "            else:\n",
    "                # rank < n\n",
    "                raise ValueError(\"Matrix is not invertible\")\n",
    "        for j in range(i+1, len(A)):\n",
    "            eliminate(A[i], A[j], i)\n",
    "    for i in range(len(A)-1, -1, -1):\n",
    "        for j in range(i-1, -1, -1):\n",
    "            eliminate(A[i], A[j], i)\n",
    "    for i in range(len(A)):\n",
    "        eliminate(A[i], A[i], i, target=1)\n",
    "    return A  \n",
    "def inverse(A):\n",
    "    tmp = copy.deepcopy(A)\n",
    "    tmp = np.concatenate((tmp, np.identity(len(A))), axis=1)\n",
    "    \"\"\"\n",
    "    for i,row in enumerate(A):\n",
    "        assert len(row) == len(A)\n",
    "        tmp[i].extend(row + [0]*i + [1] + [0]*(len(A)-i-1))\n",
    "    \"\"\"\n",
    "    #print(tmp)\n",
    "    gauss(tmp)\n",
    "    #print(tmp)\n",
    "    #ret = []\n",
    "    ret = tmp[:, (tmp.shape[1]//2):]\n",
    "    \"\"\"\n",
    "    for i in range(len(tmp)):\n",
    "        ret.append(tmp[i][(tmp[i].shape[0])//2:])\n",
    "    \"\"\"\n",
    "    #print(ret)\n",
    "    return ret\n",
    "def LSE(x_train, y_train, n, lamda):\n",
    "    X_b = np.expand_dims(np.power(x_train, n-1), axis=1)\n",
    "    for i in range(n-2, -1, -1):\n",
    "        X_b = np.append(X_b, np.expand_dims(np.power(x_train, i), axis=1), axis=1)\n",
    "    print(X_b)\n",
    "    print(type(X_b))\n",
    "    print(X_b.shape)\n",
    "    y_train = np.expand_dims(y_train, axis=1)\n",
    "    X_b_T = np.transpose(X_b)\n",
    "    ATA = X_b_T.dot(X_b)\n",
    "    print(\"ATA=\", ATA)\n",
    "    sol = inverse(X_b_T.dot(X_b) + np.identity(len(X_b_T))*lamda).dot(X_b_T).dot(y_train)\n",
    "    print(\"ATA+lamdaI=\", X_b_T.dot(X_b) + np.identity(len(X_b_T))*lamda)\n",
    "    print(\"ATb=\", X_b_T.dot(y_train))\n",
    "    print(\"ATA+lamdaI_inverse=\", inverse(X_b_T.dot(X_b) + np.identity(len(X_b_T))*lamda))\n",
    "    print(\"LSE=\", sol)\n",
    "    sol = sol.tolist()\n",
    "    fitting_line = \"\"\n",
    "    for i in range(len(sol)-1, -1, -1):\n",
    "        if i==0:\n",
    "            fitting_line += str(sol[len(sol)-1-i][0])\n",
    "        else:\n",
    "            fitting_line += str(sol[len(sol)-1-i][0]) + \"X^\" + str(i) + \" + \"\n",
    "    cost = cal_error(sol, X_b, y_train)\n",
    "    return sol, fitting_line, cost\n",
    "def Newton(x_train, y_train, n, lamda):\n",
    "    X_b = np.expand_dims(np.power(x_train, n-1), axis=1)\n",
    "    for i in range(n-2, -1, -1):\n",
    "        X_b = np.append(X_b, np.expand_dims(np.power(x_train, i), axis=1), axis=1)\n",
    "    y_train = np.expand_dims(y_train, axis=1)\n",
    "    X_b_T = np.transpose(X_b)\n",
    "    sol = inverse(X_b_T.dot(X_b)).dot(X_b_T).dot(y_train)\n",
    "    sol = sol.tolist()\n",
    "    fitting_line = \"\"\n",
    "    for i in range(len(sol)-1, -1, -1):\n",
    "        if i==0:\n",
    "            fitting_line += str(sol[len(sol)-1-i][0])\n",
    "        else:\n",
    "            fitting_line += str(sol[len(sol)-1-i][0]) + \"X^\" + str(i) + \" + \"\n",
    "    cost = cal_error(sol, X_b, y_train)\n",
    "    return sol, fitting_line, cost\n",
    "def cal_error(theta, X, Y):\n",
    "    predictions = X.dot(theta)\n",
    "    cost =  np.sum(np.square(predictions-Y))\n",
    "    return cost\n",
    "def draw(x_data, y_data, sol):\n",
    "    sol = np.squeeze(sol)\n",
    "    polynomial = np.poly1d(sol)\n",
    "    x_axis = np.linspace(-6, 6)\n",
    "    y_axis = polynomial(x_axis)\n",
    "    fig = plt.figure()\n",
    "    axes = fig.add_axes([0.1, 0.1, 2, 1])\n",
    "    axes.plot(x_axis, y_axis)\n",
    "    axes.plot(x_data, y_data, '.')\n",
    "    plt.show()\n",
    "n = [2, 3, 3]\n",
    "lamda = [0, 0, 10000]\n",
    "for j in range(3):\n",
    "    print(\"Case {}: n = {},lamda = {}\".format(j+1, n[j], lamda[j]))\n",
    "    sol_LSE, fitting_line, cost = LSE(x_train, y_train, n[j], lamda[j])\n",
    "    '''\n",
    "    print(\"LSE:\")\n",
    "    print(\"Fitting line: {}\".format(fitting_line))\n",
    "    print(\"Total error: {}\".format(cost))\n",
    "    #print(\"\\n\")\n",
    "    sol_Newton, fitting_line, cost = Newton(x_train, y_train, n[j], lamda[j])\n",
    "    print(\"Newton's Method:\")\n",
    "    print(\"Fitting line: {}\".format(fitting_line))\n",
    "    print(\"Total error: {}\".format(cost))\n",
    "    draw(x_train, y_train, sol_LSE)\n",
    "    draw(x_train, y_train, sol_Newton)\n",
    "    print(\"\\n\")\n",
    "    '''"
   ]
  },
  {
   "cell_type": "code",
   "execution_count": 70,
   "metadata": {},
   "outputs": [],
   "source": [
    "A = [[1, 2, 3],[1, 2, 3]]"
   ]
  },
  {
   "cell_type": "code",
   "execution_count": 71,
   "metadata": {},
   "outputs": [
    {
     "data": {
      "text/plain": [
       "[[1, 2, 3], [1, 2, 3]]"
      ]
     },
     "execution_count": 71,
     "metadata": {},
     "output_type": "execute_result"
    }
   ],
   "source": [
    "A"
   ]
  },
  {
   "cell_type": "code",
   "execution_count": 73,
   "metadata": {},
   "outputs": [
    {
     "data": {
      "text/plain": [
       "list"
      ]
     },
     "execution_count": 73,
     "metadata": {},
     "output_type": "execute_result"
    }
   ],
   "source": [
    "type(A)"
   ]
  },
  {
   "cell_type": "code",
   "execution_count": 74,
   "metadata": {},
   "outputs": [],
   "source": [
    "def Transpose(matrix):\n",
    "    m = len(matrix)\n",
    "    n = len(matrix[0])\n",
    "    result = []\n",
    "    for i in range(n):\n",
    "        result.append(tuple([matrix[j][i] for j in range(m)]))\n",
    "    return result"
   ]
  },
  {
   "cell_type": "code",
   "execution_count": 75,
   "metadata": {},
   "outputs": [
    {
     "data": {
      "text/plain": [
       "[(1, 1), (2, 2), (3, 3)]"
      ]
     },
     "execution_count": 75,
     "metadata": {},
     "output_type": "execute_result"
    }
   ],
   "source": [
    "Transpose(A)"
   ]
  },
  {
   "cell_type": "code",
   "execution_count": 76,
   "metadata": {},
   "outputs": [
    {
     "data": {
      "text/plain": [
       "2"
      ]
     },
     "execution_count": 76,
     "metadata": {},
     "output_type": "execute_result"
    }
   ],
   "source": [
    "len(A)"
   ]
  },
  {
   "cell_type": "code",
   "execution_count": 77,
   "metadata": {},
   "outputs": [
    {
     "data": {
      "text/plain": [
       "3"
      ]
     },
     "execution_count": 77,
     "metadata": {},
     "output_type": "execute_result"
    }
   ],
   "source": [
    "len(A[0])"
   ]
  },
  {
   "cell_type": "code",
   "execution_count": null,
   "metadata": {},
   "outputs": [],
   "source": []
  }
 ],
 "metadata": {
  "kernelspec": {
   "display_name": "Python 3",
   "language": "python",
   "name": "python3"
  },
  "language_info": {
   "codemirror_mode": {
    "name": "ipython",
    "version": 3
   },
   "file_extension": ".py",
   "mimetype": "text/x-python",
   "name": "python",
   "nbconvert_exporter": "python",
   "pygments_lexer": "ipython3",
   "version": "3.7.3"
  }
 },
 "nbformat": 4,
 "nbformat_minor": 2
}
